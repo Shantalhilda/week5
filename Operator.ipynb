"""print(5+3)

# gettng a remainder
print(19%2)

# power 2
print(5**2)

# flow
print(5//3)
print(10//2)



#variables
name = "shantal"
age = 20
x = 5 + 3
y = 5%3
z = 5**2
print(x)
print(y)
print(z)

x*= 3 
print(x)


x**= 3
print(x)

#compare 
j = 16
m = 17 
print(m>j)

# using code to show they ae the same age
j = 16
m = 16
print(j>=m)

# not the same age
j = 15
m = 16
print(j!=m)


# either one is older or above a specified age
j = 18
m = 20
print((m>18) or (m>j))
print((m>18) or (m>j) and (m!=21)) 
print((m>18) or (m>j) and (m!=21) and (m!="james"))"""

#check if something is in the message
message="shantal is pretty"
print('pretty' in message)
