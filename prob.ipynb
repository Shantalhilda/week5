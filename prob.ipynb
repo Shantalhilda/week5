{
 "cells": [
  {
   "cell_type": "markdown",
   "metadata": {},
   "source": [
    "probability of getting a head of a coin on top\n"
   ]
  },
  {
   "cell_type": "code",
   "execution_count": 2,
   "metadata": {},
   "outputs": [
    {
     "name": "stdout",
     "output_type": "stream",
     "text": [
      "the probability of getting a head is 0.5\n"
     ]
    }
   ],
   "source": [
    "sample_space = 2 #{H,T}\n",
    "\n",
    "event = 1 #H\n",
    "\n",
    "probability = event/sample_space\n",
    "\n",
    "print(f\"the probability of getting a head is {probability}\")"
   ]
  },
  {
   "cell_type": "markdown",
   "metadata": {},
   "source": [
    "probability of getting a red ball at random\n"
   ]
  },
  {
   "cell_type": "code",
   "execution_count": 6,
   "metadata": {},
   "outputs": [
    {
     "name": "stdout",
     "output_type": "stream",
     "text": [
      "the probability of getting a red ball is 0.4\n"
     ]
    }
   ],
   "source": [
    "sample_space =5#{blue, red, green, white, red}\n",
    "\n",
    "event = 2 #red\n",
    "\n",
    "probability = event/sample_space\n",
    "\n",
    "print(f\"the probability of getting a red ball is {probability}\")"
   ]
  },
  {
   "cell_type": "markdown",
   "metadata": {},
   "source": [
    "picking a red marble using marginal probability"
   ]
  },
  {
   "cell_type": "markdown",
   "metadata": {},
   "source": [
    "8 of the marbles are red and smooth\n",
    "5 of them are red and rough\n",
    "4 of them are blue and smooth\n",
    "3 of them are blue and rough"
   ]
  },
  {
   "cell_type": "code",
   "execution_count": 8,
   "metadata": {},
   "outputs": [
    {
     "name": "stdout",
     "output_type": "stream",
     "text": [
      "the probability of picking a red marble is0.65\n"
     ]
    }
   ],
   "source": [
    "sample_space = 20\n",
    "\n",
    "event = 13\n",
    "\n",
    "probability = event/sample_space\n",
    "\n",
    "print(f\"the probability of picking a red marble is{probability}\")"
   ]
  },
  {
   "cell_type": "markdown",
   "metadata": {},
   "source": [
    "probability of picking a smooth marble\n"
   ]
  },
  {
   "cell_type": "code",
   "execution_count": 9,
   "metadata": {},
   "outputs": [
    {
     "name": "stdout",
     "output_type": "stream",
     "text": [
      "the probability of picking a smooth marble is0.6\n"
     ]
    }
   ],
   "source": [
    "sample_space = 20\n",
    "\n",
    "event = 12\n",
    "\n",
    "probability = event/sample_space\n",
    "\n",
    "print(f\"the probability of picking a smooth marble is{probability}\")"
   ]
  },
  {
   "cell_type": "markdown",
   "metadata": {},
   "source": [
    "pronability of picking a marble that is both  red and smooth{joint probability}"
   ]
  },
  {
   "cell_type": "code",
   "execution_count": 10,
   "metadata": {},
   "outputs": [
    {
     "name": "stdout",
     "output_type": "stream",
     "text": [
      "the probability of picking a marble that is both red and smooth is0.4\n"
     ]
    }
   ],
   "source": [
    "sample_space = 20\n",
    "\n",
    "event  = 8\n",
    "\n",
    "probability = event/sample_space\n",
    "\n",
    "print(f\"the probability of picking a marble that is both red and smooth is{probability}\")"
   ]
  }
 ],
 "metadata": {
  "kernelspec": {
   "display_name": "Python 3",
   "language": "python",
   "name": "python3"
  },
  "language_info": {
   "codemirror_mode": {
    "name": "ipython",
    "version": 3
   },
   "file_extension": ".py",
   "mimetype": "text/x-python",
   "name": "python",
   "nbconvert_exporter": "python",
   "pygments_lexer": "ipython3",
   "version": "3.12.5"
  }
 },
 "nbformat": 4,
 "nbformat_minor": 2
}
